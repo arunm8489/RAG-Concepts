{
 "cells": [
  {
   "cell_type": "markdown",
   "metadata": {},
   "source": [
    "\n",
    "# RAG FUSION \n",
    "\n",
    "If you're working with Retrieval-Augmented Generation (RAG) systems in AI, you've probably noticed that sometimes... the retrieval step just doesn't bring back the best info.\n",
    "\n",
    "That’s where RAG Fusion comes in—a smarter, more powerful way to retrieve data before generating a response.\n",
    "\n",
    "\n",
    "𝐋𝐞𝐭’𝐬 𝐛𝐫𝐞𝐚𝐤 𝐢𝐭 𝐝𝐨𝐰𝐧 𝐰𝐢𝐭𝐡 𝐚 𝐫𝐞𝐚𝐥-𝐰𝐨𝐫𝐥𝐝 𝐞𝐱𝐚𝐦𝐩𝐥𝐞 👇\n",
    "\n",
    "Say you ask your RAG system:\n",
    "\n",
    "🧠 “What are the recent trends in electric vehicle (EV) battery technology?”\n",
    "\n",
    "A standard RAG pipeline would:\n",
    "\n",
    "1. Use that exact query to retrieve documents.\n",
    "\n",
    "2. Feed those into a language model to generate an answer.\n",
    "\n",
    "\n",
    "\n",
    "Good start. But what if that query misses better info phrased differently?\n",
    "\n",
    "\n",
    "\n",
    "⚡ 𝐄𝐧𝐭𝐞𝐫 𝐑𝐀𝐆 𝐅𝐮𝐬𝐢𝐨𝐧:\n",
    "\n",
    "Instead of relying on just one query, RAG Fusion:\n",
    "\n",
    "1. Generate multiple queries. \n",
    "\n",
    "example: \n",
    "\n",
    "query: \"what are the recent trends in electric vehicle battery technology?\"\n",
    "\n",
    "generated queries:\n",
    "\n",
    " “Latest innovations in EV battery design”\n",
    "\n",
    " “Advancements in lithium-ion batteries for electric cars”\n",
    "\n",
    " “Trends in EV energy storage tech”\n",
    "\n",
    "2. Retrieves documents for each rewritten query.\n",
    "\n",
    "3. Fuse, reranks, and deduplicates all results.We can use help of LLm for removing deduplicate entries and algorithms like reciprocal rank fusion for finally rerank the results\n",
    "\n",
    "4. Finally pass the most relevant content to the language model.\n",
    "\n",
    "\n",
    "\n",
    "The result? 🧠 A much more informed and accurate answer.\n",
    "\n",
    "\n",
    "\n",
    "🧪 𝐖𝐡𝐲 𝐢𝐭 𝐰𝐨𝐫𝐤𝐬:\n",
    "\n",
    "- Broader coverage of information sources.\n",
    "\n",
    "- Higher chance of surfacing high-quality, diverse content.\n",
    "\n",
    "- Much more resilient to vague or poorly-phrased questions.\n",
    "\n",
    "\n",
    "\n",
    "\n",
    "\n",
    "### Steps\n",
    "1. query generation\n",
    "2. retrieval based on each query\n",
    "3. reciprocal rank fusion on results\n",
    "4. Final generation\n"
   ]
  },
  {
   "cell_type": "code",
   "execution_count": 176,
   "metadata": {},
   "outputs": [
    {
     "data": {
      "text/plain": [
       "True"
      ]
     },
     "execution_count": 176,
     "metadata": {},
     "output_type": "execute_result"
    }
   ],
   "source": [
    "import openai,os\n",
    "from openai import AzureOpenAI\n",
    "from dotenv import load_dotenv\n",
    "from typing import DefaultDict\n",
    "from azure.identity import ClientSecretCredential\n",
    "from langchain_openai import OpenAIEmbeddings\n",
    "from langchain_pinecone import PineconeVectorStore\n",
    "\n",
    "load_dotenv()\n"
   ]
  },
  {
   "cell_type": "code",
   "execution_count": 190,
   "metadata": {},
   "outputs": [],
   "source": [
    "def get_access_token():\n",
    "    \"\"\" \n",
    "    gets api key by authenticating with azure ad\n",
    "    \"\"\"\n",
    "    credential = ClientSecretCredential(os.getenv('OPENAI_AD_TENANT_ID'), os.getenv('OPENAI_AD_CLIENT_ID'),\n",
    "                                            os.getenv('OPENAI_AD_CLIENT_SECRET'))\n",
    "    access_token = credential.get_token(os.getenv('OPENAI_AD_TOKEN_BASE'))\n",
    "    return access_token.token \n"
   ]
  },
  {
   "cell_type": "markdown",
   "metadata": {},
   "source": [
    "## Normal RAG Pipeline\n",
    "\n",
    "**Vectorizing the documents**"
   ]
  },
  {
   "cell_type": "code",
   "execution_count": 191,
   "metadata": {},
   "outputs": [],
   "source": [
    "Docs = [\n",
    "\n",
    "\"EV batteries primarily use lithium-ion chemistry, known for high energy density and rechargeability. Other components include cobalt, nickel, manganese, and graphite, each influencing performance, cost, and safety.\",\n",
    "\"Solid-state batteries are emerging as a promising alternative to conventional lithium-ion batteries. They offer increased energy density, faster charging, and improved safety due to the absence of liquid electrolytes.\",\n",
    "\"Legacy automakers like Ford, GM, and Volkswagen have invested billions in EV development, with GM committing to an all-electric future by 2035. These investments cover vehicle platforms, battery plants, and EV-specific R&D.\",\n",
    "\"Tech companies like Apple and Xiaomi are also exploring EVs, either through direct vehicle development or software and autonomous systems. Their entry reflects how EVs are becoming a convergence point for the auto and tech industries.\",\n",
    "\"Public charging infrastructure is critical for EV adoption, with fast chargers (DCFC) reducing charging times to under 30 minutes. Countries like China and the U.S. are rapidly expanding nationwide networks.\",\n",
    "\"Home charging accounts for over 80% of EV charging, making Level 2 residential chargers an essential part of the ecosystem. Incentives often cover installation costs to promote at-home charging convenience.\",\n",
    "\"Many EVs are integrated with advanced driver-assistance systems (ADAS), leveraging sensors, AI, and over-the-air updates. Tesla's Autopilot and Rivian’s Driver+ are examples of smart EV technologies evolving toward autonomy.\",\n",
    "\"Global EV sales surpassed 14 million units in 2023, representing nearly 18% of all new car sales. Asia, especially China, leads the market, but Europe and North America are also seeing rapid growth\",\n",
    "\"EVs produce zero tailpipe emissions, making them a cleaner alternative to internal combustion engine vehicles. However, lifecycle emissions depend on how electricity is generated.\",\n",
    "\"Battery recycling and reuse are becoming crucial to EV sustainability. Companies like Redwood Materials are working on systems to recover lithium, cobalt, and nickel from end-of-life batteries to reduce mining and environmental impact.\"\n",
    "\n",
    "]\n",
    "\n",
    "### initialize a embedding model\n",
    "from langchain_openai import AzureOpenAIEmbeddings\n",
    "\n",
    "def get_emebeddding_model():\n",
    "\n",
    "    \n",
    "\n",
    "    embedding_model = AzureOpenAIEmbeddings(\n",
    "                # azure_deployment=os.getenv(\"AZURE_OPENAI_EMBEDDING_MODEL_NAME\"),\n",
    "                model=os.getenv(\"AZURE_OPENAI_EMBEDDING_MODEL_NAME\"),\n",
    "                azure_endpoint=os.getenv(\"AZURE_OPENAI_EMBEDDING_BASE\"),\n",
    "                openai_api_version=os.getenv('AZURE_OPENAI_API_VERSION'),\n",
    "                openai_api_key=get_access_token()\n",
    "    )\n",
    "    return embedding_model\n",
    "\n",
    "\n",
    "embedding_model = get_emebeddding_model()\n",
    "\n",
    "\n",
    "\n",
    "# Create a vector store with a documents\n",
    "from langchain_core.vectorstores import InMemoryVectorStore\n",
    "\n",
    "vectorstore = InMemoryVectorStore.from_texts(\n",
    "    Docs,\n",
    "    embedding=embedding_model,\n",
    ")"
   ]
  },
  {
   "cell_type": "markdown",
   "metadata": {},
   "source": [
    "**Query retriever**"
   ]
  },
  {
   "cell_type": "code",
   "execution_count": 192,
   "metadata": {},
   "outputs": [
    {
     "data": {
      "text/plain": [
       "[(Document(id='d5f4eb62-2323-4ff2-8735-5e0a3fb506c9', metadata={}, page_content='EV batteries primarily use lithium-ion chemistry, known for high energy density and rechargeability. Other components include cobalt, nickel, manganese, and graphite, each influencing performance, cost, and safety.'),\n",
       "  0.6496517173862397),\n",
       " (Document(id='cbdce63e-7cb0-48bf-9c55-7e1e331487bf', metadata={}, page_content='Battery recycling and reuse are becoming crucial to EV sustainability. Companies like Redwood Materials are working on systems to recover lithium, cobalt, and nickel from end-of-life batteries to reduce mining and environmental impact.'),\n",
       "  0.5457863616770828),\n",
       " (Document(id='65a72b17-60e0-4f5d-b101-965f031213a2', metadata={}, page_content='EVs produce zero tailpipe emissions, making them a cleaner alternative to internal combustion engine vehicles. However, lifecycle emissions depend on how electricity is generated.'),\n",
       "  0.49025371123702144)]"
      ]
     },
     "execution_count": 192,
     "metadata": {},
     "output_type": "execute_result"
    }
   ],
   "source": [
    "\n",
    "\n",
    "query = \"Ev batteries\"\n",
    "\n",
    "def get_chunks(query,k):\n",
    "    retrieved_documents = vectorstore.similarity_search_with_score(k=k,query=query,sorted=True)\n",
    "\n",
    "    return retrieved_documents\n",
    "\n",
    "chunks = get_chunks(query=query,k=3)\n",
    "chunks"
   ]
  },
  {
   "cell_type": "markdown",
   "metadata": {},
   "source": [
    "**Answer Generator**\n",
    "\n",
    "Initialize a prompt template"
   ]
  },
  {
   "cell_type": "code",
   "execution_count": null,
   "metadata": {},
   "outputs": [],
   "source": [
    "from langchain_core.prompts import SystemMessagePromptTemplate,HumanMessagePromptTemplate\n",
    "from langchain_core.prompts import ChatPromptTemplate\n",
    "from langchain_openai import AzureChatOpenAI\n",
    "\n",
    "def get_llm():\n",
    "\n",
    "    llm = AzureChatOpenAI(\n",
    "        azure_endpoint=os.getenv(\"AZURE_OPENAI_API_BASE\"),\n",
    "        model=os.getenv(\"AZURE_OPENAI_DEPLOYMENT_NAME\"),\n",
    "        openai_api_version=os.getenv(\"AZURE_OPENAI_API_VERSION\"),\n",
    "        api_key=get_access_token()\n",
    "    )\n",
    "    return llm\n",
    "\n",
    "\n",
    "def get_retriever_prompt_template():\n",
    "\n",
    "    system_message = \"You are an assistant for question-answering tasks. Use the following pieces of retrieved context to answer the question. If you don't know the answer, just say that you don't know.\"\n",
    "\n",
    "    user_message = \"\"\"Context: {context}\n",
    "                        Question: {question}\n",
    "                        Answer:\"\"\"\n",
    "\n",
    "    system_prompt = SystemMessagePromptTemplate.from_template(system_message)\n",
    "    user_prompt = HumanMessagePromptTemplate.from_template(user_message)\n",
    "\n",
    "    prompt = ChatPromptTemplate.from_messages(\n",
    "            [\n",
    "                system_prompt,\n",
    "                user_prompt\n",
    "            ]\n",
    "        )\n",
    "    return prompt\n"
   ]
  },
  {
   "cell_type": "markdown",
   "metadata": {},
   "source": [
    "Answer generation chain"
   ]
  },
  {
   "cell_type": "code",
   "execution_count": null,
   "metadata": {},
   "outputs": [],
   "source": [
    "from langchain_core.prompts import MessagesPlaceholder\n",
    "from langchain_core.output_parsers import StrOutputParser\n",
    "from langchain_core.runnables import chain\n",
    "# Define the LLM\n",
    "from langchain_openai import ChatOpenAI\n",
    "\n",
    "\n",
    "\n",
    "## initiate llm for answering\n",
    "llm = get_llm()\n",
    "\n",
    "\n",
    "##prompt\n",
    "prompt_template = get_retriever_prompt_template()\n",
    "\n",
    "# Create a chain\n",
    "retriever_chain = (\n",
    "        prompt_template\n",
    "        | llm\n",
    "        | StrOutputParser()\n",
    "    )\n",
    "\n"
   ]
  },
  {
   "cell_type": "code",
   "execution_count": 194,
   "metadata": {},
   "outputs": [
    {
     "name": "stdout",
     "output_type": "stream",
     "text": [
      "EV batteries primarily use lithium-ion chemistry, which is known for its high energy density and rechargeability. They also contain other components like cobalt, nickel, manganese, and graphite, which influence the battery's performance, cost, and safety.\n"
     ]
    }
   ],
   "source": [
    "\n",
    "\n",
    "query = \"EV batteries\"\n",
    "chunks = get_chunks(k=3,query=query)\n",
    "context = \"\\n\\n\".join([doc[0].page_content for doc in chunks])\n",
    "\n",
    "\n",
    "# Pass the user input\n",
    "response = retriever_chain.invoke({\n",
    "        \"context\": context,\n",
    "        \"question\": query\n",
    "    })\n",
    "print(response)"
   ]
  },
  {
   "cell_type": "markdown",
   "metadata": {},
   "source": [
    "## RAG Fusion Pipeline\n",
    "\n",
    "First step in rag fusion is to rephrase multiple queries from actual query"
   ]
  },
  {
   "cell_type": "code",
   "execution_count": 195,
   "metadata": {},
   "outputs": [
    {
     "name": "stdout",
     "output_type": "stream",
     "text": [
      "EV battery technology\n",
      "electric vehicle battery types comparison\n",
      "how long do EV batteries last\n",
      "EV battery recycling process\n",
      "advancements in EV battery performance\n",
      "best EV batteries for extended range\n",
      "cost of EV batteries 2023\n",
      "EV battery maintenance tips\n"
     ]
    }
   ],
   "source": [
    "\n",
    "\n",
    "\n",
    "def get_rephrasing_prompt_template():\n",
    "\n",
    "\n",
    "    system_message = \"\"\"You are a helpful assistant that generates multiple search queries based on a single input query.\n",
    "    #Rules\n",
    "    - generated search queries must be seperated by commas\n",
    "    - you should output only generated queries and nothing else\n",
    "    \"\"\"\n",
    "\n",
    "    user_message = \"\"\"Generate 2-3 multiple search queries related to: {original_query}.\n",
    "                      Generated_queries: \"\"\"\n",
    "\n",
    "    system_prompt = SystemMessagePromptTemplate.from_template(system_message)\n",
    "    user_prompt = HumanMessagePromptTemplate.from_template(user_message)\n",
    "\n",
    "    prompt = ChatPromptTemplate.from_messages(\n",
    "            [\n",
    "                system_prompt,\n",
    "                user_prompt\n",
    "            ]\n",
    "        )\n",
    "    return prompt\n",
    "\n",
    "\n",
    "prompt = get_rephrasing_prompt_template()\n",
    "\n",
    "rephrasing_chain = (prompt | llm | StrOutputParser())\n",
    "\n",
    "rephrased_queries = rephrasing_chain.invoke({\"original_query\":query})\n",
    "rephrased_queries  = [i.strip() for i in rephrased_queries.split(',')]\n",
    "\n",
    "for q in rephrased_queries:\n",
    "    print(q)"
   ]
  },
  {
   "cell_type": "markdown",
   "metadata": {},
   "source": [
    "Now lets get the top 3 search results and their corresponding score using each of the query. We will perform reciprocal rank fusion on top of these results"
   ]
  },
  {
   "cell_type": "code",
   "execution_count": 196,
   "metadata": {},
   "outputs": [],
   "source": [
    "def reciprocal_rank_fusion(list_of_list_ranks_system, K=60):\n",
    "    \"\"\"\n",
    "    Fuse rank from multiple IR systems using Reciprocal Rank Fusion.\n",
    "    \n",
    "    Args:\n",
    "    * list_of_list_ranks_system: Ranked results from different IR system.\n",
    "    K (int): A constant used in the RRF formula (default is 60).\n",
    "    \n",
    "    Returns:\n",
    "    Tuple of list of sorted documents by score and sorted documents\n",
    "    \"\"\"\n",
    "    # Dictionary to store RRF mapping\n",
    "    rrf_map = DefaultDict(float)\n",
    "\n",
    "    # Calculate RRF score for each result in each list\n",
    "    for rank_list in list_of_list_ranks_system:\n",
    "        for rank, item in enumerate(rank_list, 1):\n",
    "            rrf_map[item] += 1 / (rank + K)\n",
    "\n",
    "    # Sort items based on their RRF scores in descending order\n",
    "    sorted_items = sorted(rrf_map.items(), key=lambda x: x[1], reverse=True)\n",
    "\n",
    "    # Return tuple of list of sorted documents by score and sorted documents\n",
    "    return sorted_items"
   ]
  },
  {
   "cell_type": "markdown",
   "metadata": {},
   "source": [
    "Next we will rerank the search results based on reciprocal rank fusion"
   ]
  },
  {
   "cell_type": "code",
   "execution_count": 197,
   "metadata": {},
   "outputs": [
    {
     "data": {
      "text/plain": [
       "[('d5f4eb62-2323-4ff2-8735-5e0a3fb506c9', 0.130098293503899),\n",
       " ('cbdce63e-7cb0-48bf-9c55-7e1e331487bf', 0.12904904602419145),\n",
       " ('cf9c93b3-ae95-44d4-bd35-18b5db4a72d8', 0.06374807987711213),\n",
       " ('65a72b17-60e0-4f5d-b101-965f031213a2', 0.04787506400409626),\n",
       " ('09acd1ff-071b-4ac7-a605-fdd48720f1ae', 0.01639344262295082)]"
      ]
     },
     "execution_count": 197,
     "metadata": {},
     "output_type": "execute_result"
    }
   ],
   "source": [
    "##prepate a list of doc_id and their ranks\n",
    "search_results = []\n",
    "\n",
    "for query in rephrased_queries:\n",
    "    chunks = get_chunks(k=3,query=query)\n",
    "\n",
    "    search_results.append([doc[0].id for doc in chunks])\n",
    "\n",
    "rrf_results = reciprocal_rank_fusion(search_results)\n",
    "rrf_results\n",
    "    "
   ]
  },
  {
   "cell_type": "markdown",
   "metadata": {},
   "source": [
    "Now we will take top 3 chunks from this reranked results and use it to generate answer"
   ]
  },
  {
   "cell_type": "code",
   "execution_count": 200,
   "metadata": {},
   "outputs": [
    {
     "name": "stdout",
     "output_type": "stream",
     "text": [
      "EV batteries primarily use lithium-ion chemistry, which is known for its high energy density and rechargeability. They also contain other components such as cobalt, nickel, manganese, and graphite, all of which affect the battery's performance, cost, and safety. Additionally, battery recycling and reuse are essential for EV sustainability, with companies like Redwood Materials focusing on recovering valuable materials like lithium, cobalt, and nickel from end-of-life batteries to minimize environmental impacts.\n"
     ]
    }
   ],
   "source": [
    "chunk_ids = [i[0] for i in rrf_results[:3]]\n",
    "rag_fusion_documents = vectorstore.get_by_ids(chunk_ids)\n",
    "\n",
    "\n",
    "rag_fusion_context = \"\\n\\n\".join([doc.page_content for doc in rag_fusion_documents])\n",
    "query = \"EV batteries\"\n",
    "# Pass the user input\n",
    "rag_fusion_response = retriever_chain.invoke({\n",
    "        \"context\": rag_fusion_context,\n",
    "        \"question\": query\n",
    "    })\n",
    "print(rag_fusion_response)"
   ]
  },
  {
   "cell_type": "markdown",
   "metadata": {},
   "source": [
    "We can see that response from rag fusion pipeline contains more contextual and relevent information."
   ]
  }
 ],
 "metadata": {
  "kernelspec": {
   "display_name": "base",
   "language": "python",
   "name": "python3"
  },
  "language_info": {
   "codemirror_mode": {
    "name": "ipython",
    "version": 3
   },
   "file_extension": ".py",
   "mimetype": "text/x-python",
   "name": "python",
   "nbconvert_exporter": "python",
   "pygments_lexer": "ipython3",
   "version": "3.12.4"
  }
 },
 "nbformat": 4,
 "nbformat_minor": 2
}
